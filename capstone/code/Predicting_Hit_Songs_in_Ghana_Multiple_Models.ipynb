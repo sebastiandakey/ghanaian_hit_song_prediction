{
 "cells": [
  {
   "cell_type": "markdown",
   "metadata": {},
   "source": [
    "# Predicting Hit Songs in Ghana with Multiple Models"
   ]
  },
  {
   "cell_type": "markdown",
   "metadata": {},
   "source": [
    "### Import Relevant Libraries"
   ]
  },
  {
   "cell_type": "code",
   "execution_count": 1,
   "metadata": {},
   "outputs": [],
   "source": [
    "import pandas as pd\n",
    "%matplotlib inline\n",
    "import matplotlib.pyplot as plt\n",
    "import seaborn as sns\n",
    "import numpy as np\n",
    "from sklearn import preprocessing\n",
    "plt.rc(\"font\", size=14)\n",
    "from sklearn import metrics\n",
    "from sklearn.model_selection import train_test_split\n",
    "sns.set(style=\"white\")\n",
    "sns.set(style=\"whitegrid\", color_codes=True)"
   ]
  },
  {
   "cell_type": "markdown",
   "metadata": {},
   "source": [
    "### Load Dataset "
   ]
  },
  {
   "cell_type": "code",
   "execution_count": 2,
   "metadata": {},
   "outputs": [],
   "source": [
    "df = pd.read_csv('gh_songs.csv')"
   ]
  },
  {
   "cell_type": "code",
   "execution_count": 3,
   "metadata": {},
   "outputs": [],
   "source": [
    "df[\"status\"].replace({\"hit\": \"1\", \"non_hit\": \"0\"}, inplace=True)\n",
    "df[\"explicit\"].replace({True: \"1\", False: \"0\"}, inplace=True)"
   ]
  },
  {
   "cell_type": "code",
   "execution_count": 4,
   "metadata": {},
   "outputs": [
    {
     "data": {
      "text/html": [
       "<div>\n",
       "<style scoped>\n",
       "    .dataframe tbody tr th:only-of-type {\n",
       "        vertical-align: middle;\n",
       "    }\n",
       "\n",
       "    .dataframe tbody tr th {\n",
       "        vertical-align: top;\n",
       "    }\n",
       "\n",
       "    .dataframe thead th {\n",
       "        text-align: right;\n",
       "    }\n",
       "</style>\n",
       "<table border=\"1\" class=\"dataframe\">\n",
       "  <thead>\n",
       "    <tr style=\"text-align: right;\">\n",
       "      <th></th>\n",
       "      <th>album_</th>\n",
       "      <th>artists_</th>\n",
       "      <th>track_name</th>\n",
       "      <th>release_year</th>\n",
       "      <th>release_month</th>\n",
       "      <th>duration_min</th>\n",
       "      <th>explicit</th>\n",
       "      <th>popularity</th>\n",
       "      <th>key</th>\n",
       "      <th>mode</th>\n",
       "      <th>...</th>\n",
       "      <th>acousticness</th>\n",
       "      <th>danceability</th>\n",
       "      <th>energy</th>\n",
       "      <th>instrumentalness</th>\n",
       "      <th>liveness</th>\n",
       "      <th>loudness</th>\n",
       "      <th>speechiness</th>\n",
       "      <th>valence</th>\n",
       "      <th>tempo</th>\n",
       "      <th>status</th>\n",
       "    </tr>\n",
       "  </thead>\n",
       "  <tbody>\n",
       "    <tr>\n",
       "      <td>0</td>\n",
       "      <td>Janesis</td>\n",
       "      <td>Efya</td>\n",
       "      <td>Heartbeat</td>\n",
       "      <td>2016</td>\n",
       "      <td>April</td>\n",
       "      <td>4.251317</td>\n",
       "      <td>0</td>\n",
       "      <td>11</td>\n",
       "      <td>0</td>\n",
       "      <td>1</td>\n",
       "      <td>...</td>\n",
       "      <td>0.18600</td>\n",
       "      <td>0.614</td>\n",
       "      <td>0.695</td>\n",
       "      <td>0.000000</td>\n",
       "      <td>0.1910</td>\n",
       "      <td>-5.707</td>\n",
       "      <td>0.1220</td>\n",
       "      <td>0.331</td>\n",
       "      <td>95.967</td>\n",
       "      <td>1</td>\n",
       "    </tr>\n",
       "    <tr>\n",
       "      <td>1</td>\n",
       "      <td>Fisherman Waves</td>\n",
       "      <td>Gasmilla</td>\n",
       "      <td>Funky</td>\n",
       "      <td>2019</td>\n",
       "      <td>March</td>\n",
       "      <td>3.317600</td>\n",
       "      <td>0</td>\n",
       "      <td>14</td>\n",
       "      <td>7</td>\n",
       "      <td>0</td>\n",
       "      <td>...</td>\n",
       "      <td>0.39700</td>\n",
       "      <td>0.880</td>\n",
       "      <td>0.657</td>\n",
       "      <td>0.000099</td>\n",
       "      <td>0.1130</td>\n",
       "      <td>-6.656</td>\n",
       "      <td>0.0459</td>\n",
       "      <td>0.557</td>\n",
       "      <td>117.008</td>\n",
       "      <td>1</td>\n",
       "    </tr>\n",
       "    <tr>\n",
       "      <td>2</td>\n",
       "      <td>Wohekyere</td>\n",
       "      <td>Daddy Lumba</td>\n",
       "      <td>Jane</td>\n",
       "      <td>2005</td>\n",
       "      <td>May</td>\n",
       "      <td>5.997117</td>\n",
       "      <td>0</td>\n",
       "      <td>18</td>\n",
       "      <td>7</td>\n",
       "      <td>1</td>\n",
       "      <td>...</td>\n",
       "      <td>0.07730</td>\n",
       "      <td>0.688</td>\n",
       "      <td>0.539</td>\n",
       "      <td>0.000019</td>\n",
       "      <td>0.1880</td>\n",
       "      <td>-11.291</td>\n",
       "      <td>0.0528</td>\n",
       "      <td>0.564</td>\n",
       "      <td>83.063</td>\n",
       "      <td>1</td>\n",
       "    </tr>\n",
       "    <tr>\n",
       "      <td>3</td>\n",
       "      <td>4word</td>\n",
       "      <td>4x4</td>\n",
       "      <td>Mante Ne De</td>\n",
       "      <td>2013</td>\n",
       "      <td>December</td>\n",
       "      <td>3.554417</td>\n",
       "      <td>0</td>\n",
       "      <td>0</td>\n",
       "      <td>7</td>\n",
       "      <td>1</td>\n",
       "      <td>...</td>\n",
       "      <td>0.05030</td>\n",
       "      <td>0.959</td>\n",
       "      <td>0.903</td>\n",
       "      <td>0.000000</td>\n",
       "      <td>0.1560</td>\n",
       "      <td>-3.663</td>\n",
       "      <td>0.0629</td>\n",
       "      <td>0.872</td>\n",
       "      <td>125.037</td>\n",
       "      <td>0</td>\n",
       "    </tr>\n",
       "    <tr>\n",
       "      <td>4</td>\n",
       "      <td>Lige Nu</td>\n",
       "      <td>M.anifest</td>\n",
       "      <td>Nok Af Dig</td>\n",
       "      <td>2013</td>\n",
       "      <td>November</td>\n",
       "      <td>2.797033</td>\n",
       "      <td>0</td>\n",
       "      <td>0</td>\n",
       "      <td>11</td>\n",
       "      <td>0</td>\n",
       "      <td>...</td>\n",
       "      <td>0.07240</td>\n",
       "      <td>0.696</td>\n",
       "      <td>0.815</td>\n",
       "      <td>0.000000</td>\n",
       "      <td>0.0729</td>\n",
       "      <td>-6.076</td>\n",
       "      <td>0.0549</td>\n",
       "      <td>0.771</td>\n",
       "      <td>136.727</td>\n",
       "      <td>0</td>\n",
       "    </tr>\n",
       "    <tr>\n",
       "      <td>...</td>\n",
       "      <td>...</td>\n",
       "      <td>...</td>\n",
       "      <td>...</td>\n",
       "      <td>...</td>\n",
       "      <td>...</td>\n",
       "      <td>...</td>\n",
       "      <td>...</td>\n",
       "      <td>...</td>\n",
       "      <td>...</td>\n",
       "      <td>...</td>\n",
       "      <td>...</td>\n",
       "      <td>...</td>\n",
       "      <td>...</td>\n",
       "      <td>...</td>\n",
       "      <td>...</td>\n",
       "      <td>...</td>\n",
       "      <td>...</td>\n",
       "      <td>...</td>\n",
       "      <td>...</td>\n",
       "      <td>...</td>\n",
       "      <td>...</td>\n",
       "    </tr>\n",
       "    <tr>\n",
       "      <td>1292</td>\n",
       "      <td>Hunger &amp; Thirst: The Mixtape</td>\n",
       "      <td>D-Black</td>\n",
       "      <td>Omega (feat. Sarkodie)</td>\n",
       "      <td>2017</td>\n",
       "      <td>December</td>\n",
       "      <td>4.644133</td>\n",
       "      <td>0</td>\n",
       "      <td>18</td>\n",
       "      <td>0</td>\n",
       "      <td>1</td>\n",
       "      <td>...</td>\n",
       "      <td>0.49700</td>\n",
       "      <td>0.934</td>\n",
       "      <td>0.750</td>\n",
       "      <td>0.000029</td>\n",
       "      <td>0.1130</td>\n",
       "      <td>-4.831</td>\n",
       "      <td>0.1960</td>\n",
       "      <td>0.802</td>\n",
       "      <td>112.001</td>\n",
       "      <td>1</td>\n",
       "    </tr>\n",
       "    <tr>\n",
       "      <td>1293</td>\n",
       "      <td>The Plug</td>\n",
       "      <td>Medikal</td>\n",
       "      <td>Father</td>\n",
       "      <td>2019</td>\n",
       "      <td>July</td>\n",
       "      <td>3.713833</td>\n",
       "      <td>0</td>\n",
       "      <td>19</td>\n",
       "      <td>3</td>\n",
       "      <td>1</td>\n",
       "      <td>...</td>\n",
       "      <td>0.08680</td>\n",
       "      <td>0.793</td>\n",
       "      <td>0.618</td>\n",
       "      <td>0.000000</td>\n",
       "      <td>0.1160</td>\n",
       "      <td>-7.146</td>\n",
       "      <td>0.0582</td>\n",
       "      <td>0.740</td>\n",
       "      <td>106.094</td>\n",
       "      <td>1</td>\n",
       "    </tr>\n",
       "    <tr>\n",
       "      <td>1294</td>\n",
       "      <td>Da Revolution</td>\n",
       "      <td>R2Bees</td>\n",
       "      <td>Kiss Your Hand (feat. Wande Coal)</td>\n",
       "      <td>2009</td>\n",
       "      <td>July</td>\n",
       "      <td>4.470217</td>\n",
       "      <td>0</td>\n",
       "      <td>33</td>\n",
       "      <td>5</td>\n",
       "      <td>1</td>\n",
       "      <td>...</td>\n",
       "      <td>0.18800</td>\n",
       "      <td>0.754</td>\n",
       "      <td>0.946</td>\n",
       "      <td>0.000000</td>\n",
       "      <td>0.0706</td>\n",
       "      <td>-3.581</td>\n",
       "      <td>0.0537</td>\n",
       "      <td>0.923</td>\n",
       "      <td>125.013</td>\n",
       "      <td>1</td>\n",
       "    </tr>\n",
       "    <tr>\n",
       "      <td>1295</td>\n",
       "      <td>The Very Best of Daddy Lumba Vol. 1</td>\n",
       "      <td>Daddy Lumba</td>\n",
       "      <td>Ankwanomaa</td>\n",
       "      <td>2002</td>\n",
       "      <td>February</td>\n",
       "      <td>5.681550</td>\n",
       "      <td>0</td>\n",
       "      <td>21</td>\n",
       "      <td>5</td>\n",
       "      <td>1</td>\n",
       "      <td>...</td>\n",
       "      <td>0.00838</td>\n",
       "      <td>0.737</td>\n",
       "      <td>0.826</td>\n",
       "      <td>0.001560</td>\n",
       "      <td>0.5200</td>\n",
       "      <td>-12.342</td>\n",
       "      <td>0.0638</td>\n",
       "      <td>0.660</td>\n",
       "      <td>119.757</td>\n",
       "      <td>1</td>\n",
       "    </tr>\n",
       "    <tr>\n",
       "      <td>1296</td>\n",
       "      <td>Paul Amatem</td>\n",
       "      <td>Ofori Amponsah</td>\n",
       "      <td>Paul Amatem</td>\n",
       "      <td>2008</td>\n",
       "      <td>December</td>\n",
       "      <td>5.013783</td>\n",
       "      <td>0</td>\n",
       "      <td>0</td>\n",
       "      <td>7</td>\n",
       "      <td>0</td>\n",
       "      <td>...</td>\n",
       "      <td>0.28200</td>\n",
       "      <td>0.760</td>\n",
       "      <td>0.956</td>\n",
       "      <td>0.000005</td>\n",
       "      <td>0.0546</td>\n",
       "      <td>-4.515</td>\n",
       "      <td>0.0607</td>\n",
       "      <td>0.924</td>\n",
       "      <td>115.989</td>\n",
       "      <td>0</td>\n",
       "    </tr>\n",
       "  </tbody>\n",
       "</table>\n",
       "<p>1297 rows × 21 columns</p>\n",
       "</div>"
      ],
      "text/plain": [
       "                                   album_        artists_  \\\n",
       "0                                 Janesis            Efya   \n",
       "1                         Fisherman Waves        Gasmilla   \n",
       "2                               Wohekyere     Daddy Lumba   \n",
       "3                                   4word             4x4   \n",
       "4                                 Lige Nu       M.anifest   \n",
       "...                                   ...             ...   \n",
       "1292         Hunger & Thirst: The Mixtape         D-Black   \n",
       "1293                             The Plug         Medikal   \n",
       "1294                        Da Revolution          R2Bees   \n",
       "1295  The Very Best of Daddy Lumba Vol. 1     Daddy Lumba   \n",
       "1296                          Paul Amatem  Ofori Amponsah   \n",
       "\n",
       "                             track_name  release_year release_month  \\\n",
       "0                             Heartbeat          2016         April   \n",
       "1                                 Funky          2019         March   \n",
       "2                                  Jane          2005           May   \n",
       "3                           Mante Ne De          2013      December   \n",
       "4                            Nok Af Dig          2013      November   \n",
       "...                                 ...           ...           ...   \n",
       "1292             Omega (feat. Sarkodie)          2017      December   \n",
       "1293                             Father          2019          July   \n",
       "1294  Kiss Your Hand (feat. Wande Coal)          2009          July   \n",
       "1295                         Ankwanomaa          2002      February   \n",
       "1296                        Paul Amatem          2008      December   \n",
       "\n",
       "      duration_min explicit  popularity  key  mode  ...  acousticness  \\\n",
       "0         4.251317        0          11    0     1  ...       0.18600   \n",
       "1         3.317600        0          14    7     0  ...       0.39700   \n",
       "2         5.997117        0          18    7     1  ...       0.07730   \n",
       "3         3.554417        0           0    7     1  ...       0.05030   \n",
       "4         2.797033        0           0   11     0  ...       0.07240   \n",
       "...            ...      ...         ...  ...   ...  ...           ...   \n",
       "1292      4.644133        0          18    0     1  ...       0.49700   \n",
       "1293      3.713833        0          19    3     1  ...       0.08680   \n",
       "1294      4.470217        0          33    5     1  ...       0.18800   \n",
       "1295      5.681550        0          21    5     1  ...       0.00838   \n",
       "1296      5.013783        0           0    7     0  ...       0.28200   \n",
       "\n",
       "      danceability  energy  instrumentalness  liveness  loudness  speechiness  \\\n",
       "0            0.614   0.695          0.000000    0.1910    -5.707       0.1220   \n",
       "1            0.880   0.657          0.000099    0.1130    -6.656       0.0459   \n",
       "2            0.688   0.539          0.000019    0.1880   -11.291       0.0528   \n",
       "3            0.959   0.903          0.000000    0.1560    -3.663       0.0629   \n",
       "4            0.696   0.815          0.000000    0.0729    -6.076       0.0549   \n",
       "...            ...     ...               ...       ...       ...          ...   \n",
       "1292         0.934   0.750          0.000029    0.1130    -4.831       0.1960   \n",
       "1293         0.793   0.618          0.000000    0.1160    -7.146       0.0582   \n",
       "1294         0.754   0.946          0.000000    0.0706    -3.581       0.0537   \n",
       "1295         0.737   0.826          0.001560    0.5200   -12.342       0.0638   \n",
       "1296         0.760   0.956          0.000005    0.0546    -4.515       0.0607   \n",
       "\n",
       "      valence    tempo  status  \n",
       "0       0.331   95.967       1  \n",
       "1       0.557  117.008       1  \n",
       "2       0.564   83.063       1  \n",
       "3       0.872  125.037       0  \n",
       "4       0.771  136.727       0  \n",
       "...       ...      ...     ...  \n",
       "1292    0.802  112.001       1  \n",
       "1293    0.740  106.094       1  \n",
       "1294    0.923  125.013       1  \n",
       "1295    0.660  119.757       1  \n",
       "1296    0.924  115.989       0  \n",
       "\n",
       "[1297 rows x 21 columns]"
      ]
     },
     "execution_count": 4,
     "metadata": {},
     "output_type": "execute_result"
    }
   ],
   "source": [
    "df"
   ]
  },
  {
   "cell_type": "markdown",
   "metadata": {},
   "source": [
    "## Implementing the Random Forest Model "
   ]
  },
  {
   "cell_type": "code",
   "execution_count": 5,
   "metadata": {},
   "outputs": [],
   "source": [
    "cols = ['acousticness', 'danceability',\n",
    "       'instrumentalness', 'liveness', 'loudness', 'speechiness', 'valence',\n",
    "       'tempo']\n",
    "X = df[cols]\n",
    "y = df['status']"
   ]
  },
  {
   "cell_type": "code",
   "execution_count": 6,
   "metadata": {},
   "outputs": [],
   "source": [
    "X_train, X_test, y_train, y_test = train_test_split(X, y, test_size=0.2)"
   ]
  },
  {
   "cell_type": "code",
   "execution_count": 36,
   "metadata": {},
   "outputs": [],
   "source": [
    "from sklearn.ensemble import RandomForestRegressor\n",
    "\n",
    "regressor = RandomForestRegressor(n_estimators=220, random_state=0)\n",
    "regressor.fit(X_train, y_train)\n",
    "y_pred = regressor.predict(X_test)"
   ]
  },
  {
   "cell_type": "code",
   "execution_count": 37,
   "metadata": {},
   "outputs": [
    {
     "data": {
      "text/plain": [
       "150     1.0\n",
       "1089    0.0\n",
       "480     1.0\n",
       "343     0.0\n",
       "1264    1.0\n",
       "       ... \n",
       "482     0.0\n",
       "244     1.0\n",
       "60      1.0\n",
       "1058    1.0\n",
       "513     0.0\n",
       "Name: status, Length: 260, dtype: float64"
      ]
     },
     "execution_count": 37,
     "metadata": {},
     "output_type": "execute_result"
    }
   ],
   "source": [
    "y_test.astype(float)"
   ]
  },
  {
   "cell_type": "code",
   "execution_count": 38,
   "metadata": {},
   "outputs": [
    {
     "name": "stdout",
     "output_type": "stream",
     "text": [
      "[[83 41]\n",
      " [60 76]]\n",
      "              precision    recall  f1-score   support\n",
      "\n",
      "         0.0       0.58      0.67      0.62       124\n",
      "         1.0       0.65      0.56      0.60       136\n",
      "\n",
      "    accuracy                           0.61       260\n",
      "   macro avg       0.61      0.61      0.61       260\n",
      "weighted avg       0.62      0.61      0.61       260\n",
      "\n",
      "0.6115384615384616\n"
     ]
    }
   ],
   "source": [
    "from sklearn.metrics import classification_report, confusion_matrix, accuracy_score\n",
    "\n",
    "print(confusion_matrix(y_test.astype(float),y_pred.round()))\n",
    "print(classification_report(y_test.astype(float),y_pred.round()))\n",
    "print(accuracy_score(y_test.astype(float), y_pred.round()))"
   ]
  },
  {
   "cell_type": "markdown",
   "metadata": {},
   "source": [
    "## Implementing the Decision Tree model "
   ]
  },
  {
   "cell_type": "code",
   "execution_count": 39,
   "metadata": {},
   "outputs": [
    {
     "data": {
      "text/plain": [
       "DecisionTreeClassifier(class_weight=None, criterion='gini', max_depth=None,\n",
       "                       max_features=None, max_leaf_nodes=None,\n",
       "                       min_impurity_decrease=0.0, min_impurity_split=None,\n",
       "                       min_samples_leaf=1, min_samples_split=2,\n",
       "                       min_weight_fraction_leaf=0.0, presort=False,\n",
       "                       random_state=None, splitter='best')"
      ]
     },
     "execution_count": 39,
     "metadata": {},
     "output_type": "execute_result"
    }
   ],
   "source": [
    "from sklearn.tree import DecisionTreeClassifier\n",
    "classifier = DecisionTreeClassifier()\n",
    "classifier.fit(X_train, y_train)"
   ]
  },
  {
   "cell_type": "code",
   "execution_count": 40,
   "metadata": {},
   "outputs": [],
   "source": [
    "y_pred = classifier.predict(X_test)"
   ]
  },
  {
   "cell_type": "code",
   "execution_count": 41,
   "metadata": {},
   "outputs": [
    {
     "name": "stdout",
     "output_type": "stream",
     "text": [
      "[[78 46]\n",
      " [70 66]]\n",
      "              precision    recall  f1-score   support\n",
      "\n",
      "           0       0.53      0.63      0.57       124\n",
      "           1       0.59      0.49      0.53       136\n",
      "\n",
      "    accuracy                           0.55       260\n",
      "   macro avg       0.56      0.56      0.55       260\n",
      "weighted avg       0.56      0.55      0.55       260\n",
      "\n"
     ]
    }
   ],
   "source": [
    "print(confusion_matrix(y_test, y_pred))\n",
    "print(classification_report(y_test, y_pred))"
   ]
  },
  {
   "cell_type": "markdown",
   "metadata": {},
   "source": [
    "## Implementing the Support Vector Machine Model "
   ]
  },
  {
   "cell_type": "code",
   "execution_count": 49,
   "metadata": {},
   "outputs": [],
   "source": [
    "from sklearn.preprocessing import StandardScaler\n",
    "scaler = StandardScaler()\n",
    "scaler.fit(X_train)\n",
    "\n",
    "X_train = scaler.transform(X_train)\n",
    "X_test = scaler.transform(X_test)"
   ]
  },
  {
   "cell_type": "code",
   "execution_count": 50,
   "metadata": {},
   "outputs": [
    {
     "data": {
      "text/plain": [
       "SVC(C=1.0, cache_size=200, class_weight=None, coef0=0.0,\n",
       "    decision_function_shape='ovr', degree=3, gamma='auto_deprecated',\n",
       "    kernel='linear', max_iter=-1, probability=False, random_state=None,\n",
       "    shrinking=True, tol=0.001, verbose=False)"
      ]
     },
     "execution_count": 50,
     "metadata": {},
     "output_type": "execute_result"
    }
   ],
   "source": [
    "from sklearn.svm import SVC\n",
    "svclassifier = SVC(kernel='linear')\n",
    "svclassifier.fit(X_train, y_train)"
   ]
  },
  {
   "cell_type": "code",
   "execution_count": 51,
   "metadata": {},
   "outputs": [],
   "source": [
    "y_pred = svclassifier.predict(X_test)"
   ]
  },
  {
   "cell_type": "code",
   "execution_count": 52,
   "metadata": {},
   "outputs": [
    {
     "name": "stdout",
     "output_type": "stream",
     "text": [
      "[[75 49]\n",
      " [54 82]]\n",
      "              precision    recall  f1-score   support\n",
      "\n",
      "           0       0.58      0.60      0.59       124\n",
      "           1       0.63      0.60      0.61       136\n",
      "\n",
      "    accuracy                           0.60       260\n",
      "   macro avg       0.60      0.60      0.60       260\n",
      "weighted avg       0.60      0.60      0.60       260\n",
      "\n"
     ]
    }
   ],
   "source": [
    "print(confusion_matrix(y_test,y_pred))\n",
    "print(classification_report(y_test,y_pred))"
   ]
  },
  {
   "cell_type": "markdown",
   "metadata": {},
   "source": [
    "## Implementing K-Nearest Neighbor Model "
   ]
  },
  {
   "cell_type": "code",
   "execution_count": 45,
   "metadata": {},
   "outputs": [],
   "source": [
    "from sklearn.preprocessing import StandardScaler\n",
    "scaler = StandardScaler()\n",
    "scaler.fit(X_train)\n",
    "\n",
    "X_train = scaler.transform(X_train)\n",
    "X_test = scaler.transform(X_test)"
   ]
  },
  {
   "cell_type": "code",
   "execution_count": 95,
   "metadata": {},
   "outputs": [],
   "source": [
    "from sklearn.model_selection import cross_val_score\n",
    "# creating odd list of K for KNN\n",
    "neighbors = list(range(1, 50, 2))\n",
    "\n",
    "# empty list that will hold cv scores\n",
    "cv_scores = []\n",
    "\n",
    "# perform 10-fold cross validation\n",
    "for k in neighbors:\n",
    "    knn = KNeighborsClassifier(n_neighbors=k)\n",
    "    scores = cross_val_score(knn, X_train, y_train, cv=10, scoring='accuracy')\n",
    "    cv_scores.append(scores.mean())"
   ]
  },
  {
   "cell_type": "code",
   "execution_count": 96,
   "metadata": {},
   "outputs": [
    {
     "name": "stdout",
     "output_type": "stream",
     "text": [
      "The optimal number of neighbors is 3\n"
     ]
    },
    {
     "data": {
      "image/png": "[encoded data removed]",
      "text/plain": [
       "<Figure size 432x288 with 1 Axes>"
      ]
     },
     "metadata": {
      "needs_background": "light"
     },
     "output_type": "display_data"
    }
   ],
   "source": [
    "# changing to misclassification error\n",
    "mse = [1 - x for x in cv_scores]\n",
    "\n",
    "# determining best k\n",
    "optimal_k = neighbors[mse.index(min(mse))]\n",
    "print(\"The optimal number of neighbors is {}\".format(optimal_k))\n",
    "\n",
    "# plot misclassification error vs k\n",
    "plt.plot(neighbors, mse)\n",
    "plt.xlabel(\"Number of Neighbors K\")\n",
    "plt.ylabel(\"Misclassification Error\")\n",
    "plt.show()\n"
   ]
  },
  {
   "cell_type": "code",
   "execution_count": 97,
   "metadata": {},
   "outputs": [
    {
     "data": {
      "text/plain": [
       "KNeighborsClassifier(algorithm='auto', leaf_size=30, metric='minkowski',\n",
       "                     metric_params=None, n_jobs=None, n_neighbors=3, p=2,\n",
       "                     weights='uniform')"
      ]
     },
     "execution_count": 97,
     "metadata": {},
     "output_type": "execute_result"
    }
   ],
   "source": [
    "from sklearn.neighbors import KNeighborsClassifier\n",
    "classifier = KNeighborsClassifier(algorithm='auto', leaf_size=30, metric='minkowski',\n",
    "                     metric_params=None, n_jobs=None, n_neighbors=3, p=2,\n",
    "                     weights='uniform')\n",
    "classifier.fit(X_train, y_train)"
   ]
  },
  {
   "cell_type": "code",
   "execution_count": 98,
   "metadata": {},
   "outputs": [],
   "source": [
    "y_pred = classifier.predict(X_test)\n"
   ]
  },
  {
   "cell_type": "code",
   "execution_count": 99,
   "metadata": {},
   "outputs": [
    {
     "name": "stdout",
     "output_type": "stream",
     "text": [
      "[[82 42]\n",
      " [64 72]]\n",
      "              precision    recall  f1-score   support\n",
      "\n",
      "           0       0.56      0.66      0.61       124\n",
      "           1       0.63      0.53      0.58       136\n",
      "\n",
      "    accuracy                           0.59       260\n",
      "   macro avg       0.60      0.60      0.59       260\n",
      "weighted avg       0.60      0.59      0.59       260\n",
      "\n"
     ]
    }
   ],
   "source": [
    "print(confusion_matrix(y_test, y_pred))\n",
    "print(classification_report(y_test, y_pred))"
   ]
  },
  {
   "cell_type": "markdown",
   "metadata": {},
   "source": [
    "## Implementing the XGBoost Classifier Model "
   ]
  },
  {
   "cell_type": "code",
   "execution_count": 56,
   "metadata": {},
   "outputs": [],
   "source": [
    "from xgboost import XGBClassifier\n"
   ]
  },
  {
   "cell_type": "code",
   "execution_count": 57,
   "metadata": {},
   "outputs": [
    {
     "data": {
      "text/plain": [
       "XGBClassifier(base_score=0.5, booster=None, colsample_bylevel=1,\n",
       "              colsample_bynode=1, colsample_bytree=1, gamma=0, gpu_id=-1,\n",
       "              importance_type='gain', interaction_constraints=None,\n",
       "              learning_rate=0.300000012, max_delta_step=0, max_depth=6,\n",
       "              min_child_weight=1, missing=nan, monotone_constraints=None,\n",
       "              n_estimators=100, n_jobs=0, num_parallel_tree=1,\n",
       "              objective='binary:logistic', random_state=0, reg_alpha=0,\n",
       "              reg_lambda=1, scale_pos_weight=1, subsample=1, tree_method=None,\n",
       "              validate_parameters=False, verbosity=None)"
      ]
     },
     "execution_count": 57,
     "metadata": {},
     "output_type": "execute_result"
    }
   ],
   "source": [
    "xgb_clf = XGBClassifier()\n",
    "xgb_clf.fit(X_train, y_train)"
   ]
  },
  {
   "cell_type": "code",
   "execution_count": 58,
   "metadata": {},
   "outputs": [
    {
     "name": "stdout",
     "output_type": "stream",
     "text": [
      "0.6\n"
     ]
    }
   ],
   "source": [
    "score = xgb_clf.score(X_test, y_test)\n",
    "print(score)"
   ]
  },
  {
   "cell_type": "code",
   "execution_count": 59,
   "metadata": {},
   "outputs": [
    {
     "name": "stdout",
     "output_type": "stream",
     "text": [
      "[[75 49]\n",
      " [54 82]]\n",
      "              precision    recall  f1-score   support\n",
      "\n",
      "           0       0.58      0.60      0.59       124\n",
      "           1       0.63      0.60      0.61       136\n",
      "\n",
      "    accuracy                           0.60       260\n",
      "   macro avg       0.60      0.60      0.60       260\n",
      "weighted avg       0.60      0.60      0.60       260\n",
      "\n"
     ]
    }
   ],
   "source": [
    "print(confusion_matrix(y_test, y_pred))\n",
    "print(classification_report(y_test, y_pred))"
   ]
  },
  {
   "cell_type": "markdown",
   "metadata": {},
   "source": [
    "## Implementing Gradient Boosting  "
   ]
  },
  {
   "cell_type": "code",
   "execution_count": 102,
   "metadata": {},
   "outputs": [],
   "source": [
    "from sklearn.preprocessing import MinMaxScaler\n",
    "from sklearn.ensemble import GradientBoostingClassifier\n"
   ]
  },
  {
   "cell_type": "code",
   "execution_count": 103,
   "metadata": {},
   "outputs": [],
   "source": [
    "scaler = MinMaxScaler()\n",
    "X_train = scaler.fit_transform(X_train)\n",
    "X_test = scaler.transform(X_test)"
   ]
  },
  {
   "cell_type": "code",
   "execution_count": 106,
   "metadata": {},
   "outputs": [
    {
     "name": "stdout",
     "output_type": "stream",
     "text": [
      "Learning rate:  0.05\n",
      "Accuracy score (training): 0.652\n",
      "Accuracy score (validation): 0.581\n",
      " \n",
      "Learning rate:  0.075\n",
      "Accuracy score (training): 0.657\n",
      "Accuracy score (validation): 0.577\n",
      " \n",
      "Learning rate:  0.1\n",
      "Accuracy score (training): 0.662\n",
      "Accuracy score (validation): 0.573\n",
      " \n",
      "Learning rate:  0.25\n",
      "Accuracy score (training): 0.689\n",
      "Accuracy score (validation): 0.596\n",
      " \n",
      "Learning rate:  0.5\n",
      "Accuracy score (training): 0.725\n",
      "Accuracy score (validation): 0.592\n",
      " \n",
      "Learning rate:  0.75\n",
      "Accuracy score (training): 0.735\n",
      "Accuracy score (validation): 0.604\n",
      " \n",
      "Learning rate:  1\n",
      "Accuracy score (training): 0.770\n",
      "Accuracy score (validation): 0.608\n",
      " \n"
     ]
    }
   ],
   "source": [
    "lr_list = [0.05, 0.075, 0.1, 0.25, 0.5, 0.75, 1]\n",
    "\n",
    "for learning_rate in lr_list:\n",
    "    gb_clf = GradientBoostingClassifier(n_estimators=20, learning_rate=learning_rate, max_features=2, max_depth=2, random_state=0)\n",
    "    gb_clf.fit(X_train, y_train)\n",
    "\n",
    "    print(\"Learning rate: \", learning_rate)\n",
    "    print(\"Accuracy score (training): {0:.3f}\".format(gb_clf.score(X_train, y_train)))\n",
    "    print(\"Accuracy score (validation): {0:.3f}\".format(gb_clf.score(X_test, y_test)))\n",
    "    print(\" \")"
   ]
  },
  {
   "cell_type": "code",
   "execution_count": 108,
   "metadata": {},
   "outputs": [
    {
     "name": "stdout",
     "output_type": "stream",
     "text": [
      "Confusion Matrix:\n",
      "[[79 45]\n",
      " [57 79]]\n",
      " \n",
      "Classification Report\n",
      "              precision    recall  f1-score   support\n",
      "\n",
      "           0       0.58      0.64      0.61       124\n",
      "           1       0.64      0.58      0.61       136\n",
      "\n",
      "    accuracy                           0.61       260\n",
      "   macro avg       0.61      0.61      0.61       260\n",
      "weighted avg       0.61      0.61      0.61       260\n",
      "\n"
     ]
    }
   ],
   "source": [
    "gb_clf2 = GradientBoostingClassifier(n_estimators=20, learning_rate=1.0, max_features=2, max_depth=2, random_state=0)\n",
    "gb_clf2.fit(X_train, y_train)\n",
    "predictions = gb_clf2.predict(X_test)\n",
    "\n",
    "print(\"Confusion Matrix:\")\n",
    "print(confusion_matrix(y_test, predictions))\n",
    "print(\" \")\n",
    "\n",
    "print(\"Classification Report\")\n",
    "print(classification_report(y_test, predictions))"
   ]
  },
  {
   "cell_type": "code",
   "execution_count": null,
   "metadata": {},
   "outputs": [],
   "source": []
  }
 ],
 "metadata": {
  "kernelspec": {
   "display_name": "Python 3",
   "language": "python",
   "name": "python3"
  },
  "language_info": {
   "codemirror_mode": {
    "name": "ipython",
    "version": 3
   },
   "file_extension": ".py",
   "mimetype": "text/x-python",
   "name": "python",
   "nbconvert_exporter": "python",
   "pygments_lexer": "ipython3",
   "version": "3.7.3"
  }
 },
 "nbformat": 4,
 "nbformat_minor": 2
}
