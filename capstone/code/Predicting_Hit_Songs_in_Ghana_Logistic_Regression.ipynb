{
 "cells": [
  {
   "cell_type": "markdown",
   "metadata": {},
   "source": [
    "# Predicting GH Hiplife Hits  Logistic Regression\n"
   ]
  },
  {
   "cell_type": "markdown",
   "metadata": {},
   "source": [
    "### Import relevant libraries "
   ]
  },
  {
   "cell_type": "code",
   "execution_count": 1,
   "metadata": {},
   "outputs": [],
   "source": [
    "import pandas as pd\n",
    "%matplotlib inline\n",
    "import matplotlib.pyplot as plt\n",
    "import seaborn as sns\n",
    "import numpy as np\n",
    "from sklearn import preprocessing\n",
    "plt.rc(\"font\", size=14)\n",
    "from sklearn.linear_model import LogisticRegression\n",
    "from sklearn import metrics\n",
    "from sklearn.model_selection import train_test_split\n",
    "sns.set(style=\"white\")\n",
    "sns.set(style=\"whitegrid\", color_codes=True)"
   ]
  },
  {
   "cell_type": "markdown",
   "metadata": {},
   "source": [
    "### Load Dataset "
   ]
  },
  {
   "cell_type": "code",
   "execution_count": 2,
   "metadata": {},
   "outputs": [
    {
     "data": {
      "text/plain": [
       "Index(['album_', 'artists_', 'track_name', 'release_year', 'release_month',\n",
       "       'duration_min', 'popularity', 'key', 'mode', 'time_signature',\n",
       "       'acousticness', 'danceability', 'energy', 'instrumentalness',\n",
       "       'liveness', 'loudness', 'speechiness', 'valence', 'tempo', 'status'],\n",
       "      dtype='object')"
      ]
     },
     "execution_count": 2,
     "metadata": {},
     "output_type": "execute_result"
    }
   ],
   "source": [
    "df = pd.read_csv('gh_songs.csv')\n",
    "features = df.drop('explicit',1).columns\n",
    "features"
   ]
  },
  {
   "cell_type": "code",
   "execution_count": 3,
   "metadata": {},
   "outputs": [],
   "source": [
    "# replace the hit with 1 and non hits with 0\n",
    "# for modeling purposes\n",
    "df[\"status\"].replace({\"hit\": \"1\", \"non_hit\": \"0\"}, inplace=True)\n"
   ]
  },
  {
   "cell_type": "code",
   "execution_count": 4,
   "metadata": {},
   "outputs": [],
   "source": [
    "# replace the Trues with 1 and Falses with 0 \n",
    "# for modeling purposes\n",
    "df[\"explicit\"].replace({True: \"1\", False: \"0\"}, inplace=True)"
   ]
  },
  {
   "cell_type": "code",
   "execution_count": 5,
   "metadata": {
    "scrolled": true
   },
   "outputs": [
    {
     "name": "stdout",
     "output_type": "stream",
     "text": [
      "<class 'pandas.core.frame.DataFrame'>\n",
      "RangeIndex: 1297 entries, 0 to 1296\n",
      "Data columns (total 21 columns):\n",
      "album_              1297 non-null object\n",
      "artists_            1297 non-null object\n",
      "track_name          1297 non-null object\n",
      "release_year        1297 non-null int64\n",
      "release_month       1297 non-null object\n",
      "duration_min        1297 non-null float64\n",
      "explicit            1297 non-null object\n",
      "popularity          1297 non-null int64\n",
      "key                 1297 non-null int64\n",
      "mode                1297 non-null int64\n",
      "time_signature      1297 non-null int64\n",
      "acousticness        1297 non-null float64\n",
      "danceability        1297 non-null float64\n",
      "energy              1297 non-null float64\n",
      "instrumentalness    1297 non-null float64\n",
      "liveness            1297 non-null float64\n",
      "loudness            1297 non-null float64\n",
      "speechiness         1297 non-null float64\n",
      "valence             1297 non-null float64\n",
      "tempo               1297 non-null float64\n",
      "status              1297 non-null object\n",
      "dtypes: float64(10), int64(5), object(6)\n",
      "memory usage: 212.9+ KB\n"
     ]
    }
   ],
   "source": [
    "df.info()"
   ]
  },
  {
   "cell_type": "markdown",
   "metadata": {},
   "source": [
    "## Data Exploration and Visualizations "
   ]
  },
  {
   "cell_type": "markdown",
   "metadata": {},
   "source": [
    "#### Danceability  "
   ]
  },
  {
   "cell_type": "code",
   "execution_count": 6,
   "metadata": {},
   "outputs": [
    {
     "data": {
      "image/png": "[encoded data removed]",
      "text/plain": [
       "<Figure size 432x216 with 2 Axes>"
      ]
     },
     "metadata": {
      "needs_background": "light"
     },
     "output_type": "display_data"
    }
   ],
   "source": [
    "g = sns.FacetGrid(df, col =\"status\", palette=\"Set1\")\n",
    "g = g.map(sns.distplot, \"danceability\")\n",
    "plt.savefig('danceability')\n",
    "\n",
    "# Danceability - describes how suitable a track is for dancing based \n",
    "# on a combination of musical elements including tempo, rhythm stability, \n",
    "# beat strength, and overall regularity. A value of 0.0 is least danceable and 1.0 is most danceable."
   ]
  },
  {
   "cell_type": "code",
   "execution_count": 7,
   "metadata": {},
   "outputs": [],
   "source": [
    "# The above visualization shows the distribution of danceability for both \n",
    "# hit songs and non hit songs. 1 = hit songs and 0 = non hit songs\n",
    "# The average score for danceability of hit songs = 0.7324\n",
    "# The average score for danceabiltity of non hit songs = 0.697"
   ]
  },
  {
   "cell_type": "markdown",
   "metadata": {},
   "source": [
    "#### Acousticness "
   ]
  },
  {
   "cell_type": "code",
   "execution_count": 8,
   "metadata": {},
   "outputs": [
    {
     "data": {
      "image/png": "[encoded data removed]",
      "text/plain": [
       "<Figure size 432x216 with 2 Axes>"
      ]
     },
     "metadata": {
      "needs_background": "light"
     },
     "output_type": "display_data"
    }
   ],
   "source": [
    "g = sns.FacetGrid(df, col =\"status\", palette=\"Set1\")\n",
    "g = g.map(sns.distplot, \"acousticness\")\n",
    "plt.savefig('acousticness')\n",
    "\n",
    "# A confidence measure from 0.0 to 1.0 of whether the track is acoustic. \n",
    "# 1.0 represents high confidence the track is acoustic. "
   ]
  },
  {
   "cell_type": "code",
   "execution_count": 9,
   "metadata": {},
   "outputs": [],
   "source": [
    "# The above visualization shows the distribution of acousticness for both \n",
    "# hit songs and non hit songs. 1 = hit songs and 0 = non hit songs\n",
    "# The average score for acousticness of hit songs = 0.2838\n",
    "# The average score for acousticness of non hit songs = 0.245"
   ]
  },
  {
   "cell_type": "markdown",
   "metadata": {},
   "source": [
    "#### Energy "
   ]
  },
  {
   "cell_type": "code",
   "execution_count": 10,
   "metadata": {},
   "outputs": [
    {
     "data": {
      "image/png": "[encoded data removed]",
      "text/plain": [
       "<Figure size 432x216 with 2 Axes>"
      ]
     },
     "metadata": {
      "needs_background": "light"
     },
     "output_type": "display_data"
    }
   ],
   "source": [
    "g = sns.FacetGrid(df, col =\"status\", palette=\"Set1\")\n",
    "g = g.map(sns.distplot, \"energy\")\n",
    "plt.savefig('energy')\n",
    "\n",
    "#Energy is a measure from 0.0 to 1.0 and represents a perceptual \n",
    "# measure of intensity and activity. Typically, energetic tracks feel fast, \n",
    "# loud, and noisy. For example, death metal has high energy, \n",
    "# while a Bach prelude scores low on the scale. Perceptual features contributing \n",
    "#to this attribute include dynamic range, perceived loudness, timbre, onset rate, and general entropy."
   ]
  },
  {
   "cell_type": "code",
   "execution_count": 11,
   "metadata": {},
   "outputs": [],
   "source": [
    "# The above visualization shows the distribution of energy for both \n",
    "# hit songs and non hit songs. 1 = hit songs and 0 = non hit songs\n",
    "# The average score for energy of hit songs = 0.7146\n",
    "# The average score for enrgy of non hit songs = 0.699"
   ]
  },
  {
   "cell_type": "markdown",
   "metadata": {},
   "source": [
    "#### Liveness "
   ]
  },
  {
   "cell_type": "code",
   "execution_count": 12,
   "metadata": {},
   "outputs": [
    {
     "data": {
      "image/png": "[encoded data removed]",
      "text/plain": [
       "<Figure size 432x216 with 2 Axes>"
      ]
     },
     "metadata": {
      "needs_background": "light"
     },
     "output_type": "display_data"
    }
   ],
   "source": [
    "g = sns.FacetGrid(df, col =\"status\", palette=\"Set1\")\n",
    "g = g.map(sns.distplot, \"liveness\")\n",
    "plt.savefig('liveness')\n",
    "\n",
    "# Detects the presence of an audience in the recording. \n",
    "# Higher liveness values represent an increased probability that the track was performed live. \n",
    "# A value above 0.8 provides strong likelihood that the track is live."
   ]
  },
  {
   "cell_type": "code",
   "execution_count": 13,
   "metadata": {},
   "outputs": [],
   "source": [
    "# The above visualization shows the distribution of liveness for both \n",
    "# hit songs and non hit songs. 1 = hit songs and 0 = non hit songs\n",
    "# The average score for energy of hit songs = 0.1558\n",
    "# The average score for energy of non hit songs =  0.1768"
   ]
  },
  {
   "cell_type": "markdown",
   "metadata": {},
   "source": [
    "#### Loudness "
   ]
  },
  {
   "cell_type": "code",
   "execution_count": 14,
   "metadata": {},
   "outputs": [
    {
     "data": {
      "image/png": "[encoded data removed]",
      "text/plain": [
       "<Figure size 432x216 with 2 Axes>"
      ]
     },
     "metadata": {
      "needs_background": "light"
     },
     "output_type": "display_data"
    }
   ],
   "source": [
    "g = sns.FacetGrid(df, col =\"status\", palette=\"Set1\")\n",
    "g = g.map(sns.distplot, \"loudness\")\n",
    "plt.savefig('loudness')\n",
    "\n",
    "# The overall loudness of a track in decibels (dB). \n",
    "# Loudness values are averaged across the entire track and are useful for \n",
    "# comparing relative loudness of tracks. Loudness is the quality of a sound \n",
    "# that is the primary psychological correlate of physical strength (amplitude). "
   ]
  },
  {
   "cell_type": "code",
   "execution_count": 15,
   "metadata": {},
   "outputs": [],
   "source": [
    "# The above visualization shows the distribution of loudness for both \n",
    "# hit songs and non hit songs. 1 = hit songs and 0 = non hit songs\n",
    "# The average score for loudness of hit songs = -6.2245\n",
    "# The average score for loudness of non hit songs = -6.742"
   ]
  },
  {
   "cell_type": "markdown",
   "metadata": {},
   "source": [
    "#### Speechiness "
   ]
  },
  {
   "cell_type": "code",
   "execution_count": 16,
   "metadata": {},
   "outputs": [
    {
     "data": {
      "image/png": "[encoded data removed]",
      "text/plain": [
       "<Figure size 432x216 with 2 Axes>"
      ]
     },
     "metadata": {
      "needs_background": "light"
     },
     "output_type": "display_data"
    }
   ],
   "source": [
    "g = sns.FacetGrid(df, col =\"status\", palette=\"Set1\")\n",
    "g = g.map(sns.distplot, \"speechiness\")\n",
    "plt.savefig('speechiness')\n",
    "\n",
    "# Speechiness detects the presence of spoken words in a track. \n",
    "# The more exclusively speech-like the recording (e.g. talk show, audio book, poetry), \n",
    "# the closer to 1.0 the attribute value. Values above 0.66 describe tracks \n",
    "# that are probably made entirely of spoken words. Values between 0.33 and 0.66 describe \n",
    "# tracks that may contain both music and speech, either in sections or layered, including \n",
    "# such cases as rap music. Values below 0.33 most likely represent music and other non-speech-like tracks."
   ]
  },
  {
   "cell_type": "code",
   "execution_count": 17,
   "metadata": {},
   "outputs": [],
   "source": [
    "# The above visualization shows the distribution of speechiness for both \n",
    "# hit songs and non hit songs. 1 = hit songs and 0 = non hit songs\n",
    "# The average score for speechiness of hit songs = 0.14559\n",
    "# The average score for speechiness of non hit songs = 0.1675"
   ]
  },
  {
   "cell_type": "markdown",
   "metadata": {},
   "source": [
    "#### Valence "
   ]
  },
  {
   "cell_type": "code",
   "execution_count": 18,
   "metadata": {},
   "outputs": [
    {
     "data": {
      "image/png": "[encoded data removed]",
      "text/plain": [
       "<Figure size 432x216 with 2 Axes>"
      ]
     },
     "metadata": {
      "needs_background": "light"
     },
     "output_type": "display_data"
    }
   ],
   "source": [
    "g = sns.FacetGrid(df, col =\"status\", palette=\"Set1\")\n",
    "g = g.map(sns.distplot, \"valence\")\n",
    "plt.savefig('valence')\n",
    "\n",
    "# A measure from 0.0 to 1.0 describing the musical positiveness conveyed by a track. \n",
    "# Tracks with high valence sound more positive (e.g. happy, cheerful, euphoric), \n",
    "# while tracks with low valence sound more negative (e.g. sad, depressed, angry)"
   ]
  },
  {
   "cell_type": "code",
   "execution_count": 19,
   "metadata": {},
   "outputs": [],
   "source": [
    "# The above visualization shows the distribution of valence for both \n",
    "# hit songs and non hit songs. 1 = hit songs and 0 = non hit songs\n",
    "# The average score for valence of hit songs = 0.7344\n",
    "# The average score for valence of non hit songs =  0.684"
   ]
  },
  {
   "cell_type": "markdown",
   "metadata": {},
   "source": [
    "#### Tempo "
   ]
  },
  {
   "cell_type": "code",
   "execution_count": 20,
   "metadata": {},
   "outputs": [
    {
     "data": {
      "image/png": "[encoded data removed]",
      "text/plain": [
       "<Figure size 432x216 with 2 Axes>"
      ]
     },
     "metadata": {
      "needs_background": "light"
     },
     "output_type": "display_data"
    }
   ],
   "source": [
    "g = sns.FacetGrid(df, col =\"status\", palette=\"Set1\")\n",
    "g = g.map(sns.distplot, \"tempo\")\n",
    "plt.savefig('tempo')\n",
    "\n",
    "# The overall estimated tempo of a track in beats per minute (BPM). \n",
    "# In musical terminology, tempo is the speed or pace of a given piece and derives \n",
    "# directly from the average beat duration."
   ]
  },
  {
   "cell_type": "code",
   "execution_count": 21,
   "metadata": {},
   "outputs": [],
   "source": [
    "# The above visualization shows the distribution of tempo for both \n",
    "# hit songs and non hit songs. 1 = hit songs and 0 = non hit songs\n",
    "# The average score for tempo of hit songs = 113.327\n",
    "# The average score for tempo of non hit songs =  116.808"
   ]
  },
  {
   "cell_type": "markdown",
   "metadata": {},
   "source": [
    "#### Duration (minutes) "
   ]
  },
  {
   "cell_type": "code",
   "execution_count": 22,
   "metadata": {},
   "outputs": [
    {
     "data": {
      "image/png": "[encoded data removed]",
      "text/plain": [
       "<Figure size 432x216 with 2 Axes>"
      ]
     },
     "metadata": {
      "needs_background": "light"
     },
     "output_type": "display_data"
    }
   ],
   "source": [
    "g = sns.FacetGrid(df, col =\"status\", palette=\"Set1\")\n",
    "g = g.map(sns.distplot, \"duration_min\")\n",
    "plt.savefig('duration_min')\n",
    "\n",
    "# The duration of the track in minutes "
   ]
  },
  {
   "cell_type": "code",
   "execution_count": 23,
   "metadata": {},
   "outputs": [],
   "source": [
    "# The above visualization shows the distribution of duration for both \n",
    "# hit songs and non hit songs. 1 = hit songs and 0 = non hit songs\n",
    "# The average score for duration of hit songs = 3.991 minutes\n",
    "# The average score for duration of non hit songs =  4.09 minutes"
   ]
  },
  {
   "cell_type": "markdown",
   "metadata": {},
   "source": [
    "#### ."
   ]
  },
  {
   "cell_type": "code",
   "execution_count": 24,
   "metadata": {},
   "outputs": [
    {
     "data": {
      "image/png": "[encoded data removed]",
      "text/plain": [
       "<Figure size 432x288 with 1 Axes>"
      ]
     },
     "metadata": {
      "needs_background": "light"
     },
     "output_type": "display_data"
    },
    {
     "data": {
      "text/plain": [
       "<Figure size 432x288 with 0 Axes>"
      ]
     },
     "metadata": {},
     "output_type": "display_data"
    }
   ],
   "source": [
    "# The plot below shows the proportion of hit songs to non hit songs\n",
    "# Because it is almost balanced (52:47), I did not make any changes to it\n",
    "sns.countplot(x='status', data=df, palette='hls')\n",
    "plt.show()\n",
    "plt.savefig('count_plot_status')"
   ]
  },
  {
   "cell_type": "code",
   "execution_count": 25,
   "metadata": {},
   "outputs": [
    {
     "name": "stdout",
     "output_type": "stream",
     "text": [
      "percentage of non hit songs is 52.27447956823439\n",
      "percentage of hit songs 47.72552043176561\n"
     ]
    }
   ],
   "source": [
    "count_of_hit = (df['status']=='1').sum()\n",
    "count_non_hit = (df['status']=='0').sum()\n",
    "pct_of_non_hit = count_non_hit/(count_non_hit+count_of_hit)\n",
    "print(\"percentage of non hit songs is\", pct_of_non_hit*100)\n",
    "pct_of_hit = count_of_hit/(count_non_hit+count_of_hit)\n",
    "print(\"percentage of hit songs\", pct_of_hit*100)"
   ]
  },
  {
   "cell_type": "markdown",
   "metadata": {},
   "source": [
    "## Implementing the Model "
   ]
  },
  {
   "cell_type": "code",
   "execution_count": 26,
   "metadata": {},
   "outputs": [],
   "source": [
    "cols = ['duration_min', 'explicit', 'key', 'mode',\n",
    "       'time_signature', 'acousticness', 'danceability', 'energy',\n",
    "       'instrumentalness', 'liveness', 'loudness', 'speechiness', 'valence',\n",
    "       'tempo']\n",
    "X = df[cols]\n",
    "y = df['status']"
   ]
  },
  {
   "cell_type": "code",
   "execution_count": 27,
   "metadata": {},
   "outputs": [
    {
     "name": "stderr",
     "output_type": "stream",
     "text": [
      "/Users/user/anaconda3/lib/python3.7/site-packages/statsmodels/compat/pandas.py:23: FutureWarning: The Panel class is removed from pandas. Accessing it from the top-level namespace will also be removed in the next version\n",
      "  data_klasses = (pandas.Series, pandas.DataFrame, pandas.Panel)\n"
     ]
    },
    {
     "name": "stdout",
     "output_type": "stream",
     "text": [
      "Optimization terminated successfully.\n",
      "         Current function value: 0.654357\n",
      "         Iterations 7\n",
      "                         Results: Logit\n",
      "=================================================================\n",
      "Model:              Logit            Pseudo R-squared: 0.055     \n",
      "Dependent Variable: status           AIC:              1725.4026 \n",
      "Date:               2020-05-27 13:12 BIC:              1797.7519 \n",
      "No. Observations:   1297             Log-Likelihood:   -848.70   \n",
      "Df Model:           13               LL-Null:          -897.67   \n",
      "Df Residuals:       1283             LLR p-value:      4.1613e-15\n",
      "Converged:          1.0000           Scale:            1.0000    \n",
      "No. Iterations:     7.0000                                       \n",
      "-----------------------------------------------------------------\n",
      "                   Coef.  Std.Err.    z    P>|z|   [0.025  0.975]\n",
      "-----------------------------------------------------------------\n",
      "duration_min      -0.0349   0.0531 -0.6575 0.5109 -0.1390  0.0692\n",
      "explicit           0.2761   0.1786  1.5458 0.1222 -0.0740  0.6262\n",
      "key                0.0046   0.0161  0.2839 0.7765 -0.0269  0.0360\n",
      "mode               0.1357   0.1187  1.1433 0.2529 -0.0970  0.3685\n",
      "time_signature    -0.0452   0.1103 -0.4100 0.6818 -0.2615  0.1710\n",
      "acousticness       1.0743   0.2767  3.8827 0.0001  0.5320  1.6165\n",
      "danceability       1.3123   0.4544  2.8880 0.0039  0.4217  2.2029\n",
      "energy            -0.2663   0.5063 -0.5260 0.5989 -1.2586  0.7260\n",
      "instrumentalness  -3.7605   1.0355 -3.6316 0.0003 -5.7901 -1.7310\n",
      "liveness          -0.9538   0.4381 -2.1773 0.0295 -1.8125 -0.0952\n",
      "loudness           0.0450   0.0230  1.9564 0.0504 -0.0001  0.0900\n",
      "speechiness       -1.5524   0.4630 -3.3531 0.0008 -2.4597 -0.6450\n",
      "valence            0.6260   0.3187  1.9641 0.0495  0.0013  1.2508\n",
      "tempo             -0.0055   0.0023 -2.3671 0.0179 -0.0100 -0.0009\n",
      "=================================================================\n",
      "\n"
     ]
    }
   ],
   "source": [
    "import statsmodels.api as sm\n",
    "logit_model=sm.Logit(y.astype(float),X.astype(float))\n",
    "result=logit_model.fit()\n",
    "print(result.summary2())"
   ]
  },
  {
   "cell_type": "code",
   "execution_count": 28,
   "metadata": {},
   "outputs": [],
   "source": [
    "# the p values for the features which are greater than 0.05 will be removed. \n",
    "# the features removed are duration, explicit, key, mode, time signature and energy"
   ]
  },
  {
   "cell_type": "code",
   "execution_count": 29,
   "metadata": {},
   "outputs": [],
   "source": [
    "cols = ['acousticness', 'danceability',\n",
    "       'instrumentalness', 'liveness', 'loudness', 'speechiness', 'valence',\n",
    "       'tempo']\n",
    "X = df[cols]\n",
    "y = df['status']"
   ]
  },
  {
   "cell_type": "code",
   "execution_count": 30,
   "metadata": {},
   "outputs": [
    {
     "name": "stdout",
     "output_type": "stream",
     "text": [
      "Optimization terminated successfully.\n",
      "         Current function value: 0.656415\n",
      "         Iterations 7\n",
      "                         Results: Logit\n",
      "=================================================================\n",
      "Model:              Logit            Pseudo R-squared: 0.052     \n",
      "Dependent Variable: status           AIC:              1718.7406 \n",
      "Date:               2020-05-27 13:12 BIC:              1760.0830 \n",
      "No. Observations:   1297             Log-Likelihood:   -851.37   \n",
      "Df Model:           7                LL-Null:          -897.67   \n",
      "Df Residuals:       1289             LLR p-value:      3.6177e-17\n",
      "Converged:          1.0000           Scale:            1.0000    \n",
      "No. Iterations:     7.0000                                       \n",
      "-----------------------------------------------------------------\n",
      "                   Coef.  Std.Err.    z    P>|z|   [0.025  0.975]\n",
      "-----------------------------------------------------------------\n",
      "acousticness       1.0912   0.2716  4.0174 0.0001  0.5588  1.6236\n",
      "danceability       1.0714   0.3673  2.9167 0.0035  0.3514  1.7913\n",
      "instrumentalness  -3.8117   1.0288 -3.7049 0.0002 -5.8282 -1.7952\n",
      "liveness          -1.0282   0.4189 -2.4546 0.0141 -1.8493 -0.2072\n",
      "loudness           0.0424   0.0182  2.3356 0.0195  0.0068  0.0780\n",
      "speechiness       -1.4684   0.4387 -3.3474 0.0008 -2.3281 -0.6086\n",
      "valence            0.4730   0.2951  1.6029 0.1090 -0.1054  1.0514\n",
      "tempo             -0.0064   0.0019 -3.2917 0.0010 -0.0102 -0.0026\n",
      "=================================================================\n",
      "\n"
     ]
    }
   ],
   "source": [
    "logit_model=sm.Logit(y.astype(float),X.astype(float))\n",
    "result=logit_model.fit()\n",
    "print(result.summary2())"
   ]
  },
  {
   "cell_type": "code",
   "execution_count": 31,
   "metadata": {},
   "outputs": [],
   "source": [
    "# From the above table, all the features selected have a p value less than 0.05\n",
    "# Meaning they are significant enough to be used in modeling "
   ]
  },
  {
   "cell_type": "markdown",
   "metadata": {},
   "source": [
    "### Logistic Regression Model fitting "
   ]
  },
  {
   "cell_type": "code",
   "execution_count": 32,
   "metadata": {},
   "outputs": [
    {
     "data": {
      "text/plain": [
       "LogisticRegression(C=1.0, class_weight=None, dual=False, fit_intercept=True,\n",
       "                   intercept_scaling=1, l1_ratio=None, max_iter=100,\n",
       "                   multi_class='warn', n_jobs=None, penalty='l2',\n",
       "                   random_state=1, solver='liblinear', tol=0.0001, verbose=0,\n",
       "                   warm_start=False)"
      ]
     },
     "execution_count": 32,
     "metadata": {},
     "output_type": "execute_result"
    }
   ],
   "source": [
    "X_train, X_test, y_train, y_test = train_test_split(X, y, test_size=0.2, random_state=0)\n",
    "logreg = LogisticRegression(C=1.0, class_weight=None, dual=False, fit_intercept=True,\n",
    "                   intercept_scaling=1, l1_ratio=None, max_iter=100,\n",
    "                   multi_class='warn', n_jobs=None, penalty='l2',\n",
    "                   random_state=1, solver='liblinear', tol=0.0001, verbose=0,\n",
    "                   warm_start=False)\n",
    "logreg.fit(X_train, y_train)"
   ]
  },
  {
   "cell_type": "code",
   "execution_count": 33,
   "metadata": {},
   "outputs": [
    {
     "name": "stdout",
     "output_type": "stream",
     "text": [
      "Accuracy of logistic regression classifier on test set: 0.64\n"
     ]
    }
   ],
   "source": [
    "y_pred = logreg.predict(X_test)\n",
    "print('Accuracy of logistic regression classifier on test set: {:.2f}'.format(logreg.score(X_test, y_test)))"
   ]
  },
  {
   "cell_type": "code",
   "execution_count": 34,
   "metadata": {},
   "outputs": [
    {
     "name": "stdout",
     "output_type": "stream",
     "text": [
      "[[88 60]\n",
      " [33 79]]\n"
     ]
    }
   ],
   "source": [
    "from sklearn.metrics import confusion_matrix\n",
    "confusion_matrix = confusion_matrix(y_test, y_pred)\n",
    "print(confusion_matrix)"
   ]
  },
  {
   "cell_type": "code",
   "execution_count": 35,
   "metadata": {},
   "outputs": [],
   "source": [
    "# The above confusion matrix shows that 79 of the songs were hits and the model predicted a hit\n",
    "# Again, 88 of the songs were non hits and the model predicted a non hit\n",
    "# Furthermore, 60 of the songs were non hits and the model predicted a hit\n",
    "# Finally, 33 of the songs were hits and the model predicted non hits"
   ]
  },
  {
   "cell_type": "code",
   "execution_count": 36,
   "metadata": {},
   "outputs": [
    {
     "name": "stdout",
     "output_type": "stream",
     "text": [
      "              precision    recall  f1-score   support\n",
      "\n",
      "           0       0.73      0.59      0.65       148\n",
      "           1       0.57      0.71      0.63       112\n",
      "\n",
      "    accuracy                           0.64       260\n",
      "   macro avg       0.65      0.65      0.64       260\n",
      "weighted avg       0.66      0.64      0.64       260\n",
      "\n"
     ]
    }
   ],
   "source": [
    "from sklearn.metrics import classification_report\n",
    "print(classification_report(y_test, y_pred))"
   ]
  },
  {
   "cell_type": "code",
   "execution_count": 37,
   "metadata": {},
   "outputs": [
    {
     "data": {
      "text/plain": [
       "665     False\n",
       "474      True\n",
       "717      True\n",
       "240     False\n",
       "699     False\n",
       "        ...  \n",
       "44      False\n",
       "1181     True\n",
       "1110    False\n",
       "989     False\n",
       "330      True\n",
       "Name: status, Length: 260, dtype: bool"
      ]
     },
     "execution_count": 37,
     "metadata": {},
     "output_type": "execute_result"
    }
   ],
   "source": [
    "# changing the y_test variable into a bool to be able to plot the ROC Curve\n",
    "y_test.replace({'1': True, '0': False}, inplace=True)\n",
    "y_test"
   ]
  },
  {
   "cell_type": "code",
   "execution_count": 38,
   "metadata": {},
   "outputs": [
    {
     "data": {
      "image/png": "[encoded data removed]",
      "text/plain": [
       "<Figure size 432x288 with 1 Axes>"
      ]
     },
     "metadata": {
      "needs_background": "light"
     },
     "output_type": "display_data"
    }
   ],
   "source": [
    "from sklearn.metrics import roc_auc_score\n",
    "from sklearn.metrics import roc_curve\n",
    "logit_roc_auc = roc_auc_score(y_test.astype(float), logreg.predict(X_test).astype(float))  \n",
    "fpr, tpr, thresholds= roc_curve(y_test, logreg.predict_proba(X_test)[:,1])\n",
    "\n",
    "\n",
    "plt.figure()\n",
    "plt.plot(fpr, tpr, label='Logistic Regression (area = %0.2f)' % logit_roc_auc)\n",
    "plt.plot([0, 1], [0, 1],'r--')\n",
    "plt.xlim([0.0, 1.0])\n",
    "plt.ylim([0.0, 1.05])\n",
    "plt.xlabel('False Positive Rate')\n",
    "plt.ylabel('True Positive Rate')\n",
    "plt.title('Receiver operating characteristic')\n",
    "plt.legend(loc=\"lower right\")\n",
    "plt.savefig('Log_ROC')\n",
    "plt.show()"
   ]
  },
  {
   "cell_type": "code",
   "execution_count": 39,
   "metadata": {},
   "outputs": [],
   "source": [
    "y_test.replace({True: '1', False: '0'}, inplace=True)"
   ]
  },
  {
   "cell_type": "code",
   "execution_count": 40,
   "metadata": {},
   "outputs": [],
   "source": [
    "import pickle\n",
    "\n",
    "# save the model to disk\n",
    "filename = 'hit_model.sav'\n",
    "pickle.dump(logreg, open(filename, 'wb'))"
   ]
  },
  {
   "cell_type": "code",
   "execution_count": 41,
   "metadata": {},
   "outputs": [
    {
     "name": "stdout",
     "output_type": "stream",
     "text": [
      "0.6423076923076924\n"
     ]
    }
   ],
   "source": [
    "# load the model from disk\n",
    "loaded_model = pickle.load(open(filename, 'rb'))\n",
    "result = loaded_model.score(X_test, y_test)\n",
    "print(result)"
   ]
  },
  {
   "cell_type": "code",
   "execution_count": 42,
   "metadata": {},
   "outputs": [
    {
     "data": {
      "text/plain": [
       "['acousticness',\n",
       " 'danceability',\n",
       " 'instrumentalness',\n",
       " 'liveness',\n",
       " 'loudness',\n",
       " 'speechiness',\n",
       " 'valence',\n",
       " 'tempo']"
      ]
     },
     "execution_count": 42,
     "metadata": {},
     "output_type": "execute_result"
    }
   ],
   "source": [
    "features = cols\n",
    "features"
   ]
  },
  {
   "cell_type": "code",
   "execution_count": null,
   "metadata": {},
   "outputs": [],
   "source": []
  },
  {
   "cell_type": "code",
   "execution_count": null,
   "metadata": {},
   "outputs": [],
   "source": []
  },
  {
   "cell_type": "markdown",
   "metadata": {},
   "source": [
    "## Predicting Kidi's \"Say Cheese\"  "
   ]
  },
  {
   "cell_type": "code",
   "execution_count": 43,
   "metadata": {},
   "outputs": [],
   "source": [
    "loaded_model = pickle.load(open(filename, 'rb'))"
   ]
  },
  {
   "cell_type": "code",
   "execution_count": 44,
   "metadata": {},
   "outputs": [],
   "source": [
    "#The audio features of the song is below\n",
    "\n",
    "{\"acousticness\": 0.419,\n",
    "                   \"danceability\": 0.837,\n",
    "                   \"instrumentalness\": 0.0000977,\n",
    "                   \"liveness\": 0.103,\n",
    "                   \"loudness\": -5.014,\n",
    "                   \"speechiness\": 0.0505,\n",
    "                   \"valence\": 0.876,\n",
    "                   \"tempo\": 102.996}\n",
    "\n",
    "parameters = [[0.419,0.837,0.0000977,0.103,-5.014,0.0505,0.876,102.996]]"
   ]
  },
  {
   "cell_type": "code",
   "execution_count": 47,
   "metadata": {},
   "outputs": [
    {
     "name": "stdout",
     "output_type": "stream",
     "text": [
      "['1']\n"
     ]
    }
   ],
   "source": [
    "print(loaded_model.predict(parameters))"
   ]
  },
  {
   "cell_type": "code",
   "execution_count": null,
   "metadata": {},
   "outputs": [],
   "source": []
  },
  {
   "cell_type": "code",
   "execution_count": null,
   "metadata": {},
   "outputs": [],
   "source": []
  }
 ],
 "metadata": {
  "kernelspec": {
   "display_name": "Python 3",
   "language": "python",
   "name": "python3"
  },
  "language_info": {
   "codemirror_mode": {
    "name": "ipython",
    "version": 3
   },
   "file_extension": ".py",
   "mimetype": "text/x-python",
   "name": "python",
   "nbconvert_exporter": "python",
   "pygments_lexer": "ipython3",
   "version": "3.7.3"
  }
 },
 "nbformat": 4,
 "nbformat_minor": 2
}
